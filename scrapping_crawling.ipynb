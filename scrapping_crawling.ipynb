{
 "cells": [
  {
   "cell_type": "code",
   "execution_count": 1,
   "metadata": {},
   "outputs": [
    {
     "name": "stdout",
     "output_type": "stream",
     "text": [
      "Requirement already satisfied: requests in c:\\users\\felix\\appdata\\local\\packages\\pythonsoftwarefoundation.python.3.11_qbz5n2kfra8p0\\localcache\\local-packages\\python311\\site-packages (2.32.3)\n",
      "Requirement already satisfied: beautifulsoup4 in c:\\users\\felix\\appdata\\local\\packages\\pythonsoftwarefoundation.python.3.11_qbz5n2kfra8p0\\localcache\\local-packages\\python311\\site-packages (4.12.3)\n",
      "Requirement already satisfied: psycopg2-binary in c:\\users\\felix\\appdata\\local\\packages\\pythonsoftwarefoundation.python.3.11_qbz5n2kfra8p0\\localcache\\local-packages\\python311\\site-packages (2.9.10)\n",
      "Requirement already satisfied: charset-normalizer<4,>=2 in c:\\users\\felix\\appdata\\local\\packages\\pythonsoftwarefoundation.python.3.11_qbz5n2kfra8p0\\localcache\\local-packages\\python311\\site-packages (from requests) (3.4.0)\n",
      "Requirement already satisfied: idna<4,>=2.5 in c:\\users\\felix\\appdata\\local\\packages\\pythonsoftwarefoundation.python.3.11_qbz5n2kfra8p0\\localcache\\local-packages\\python311\\site-packages (from requests) (3.10)\n",
      "Requirement already satisfied: urllib3<3,>=1.21.1 in c:\\users\\felix\\appdata\\local\\packages\\pythonsoftwarefoundation.python.3.11_qbz5n2kfra8p0\\localcache\\local-packages\\python311\\site-packages (from requests) (2.2.3)\n",
      "Requirement already satisfied: certifi>=2017.4.17 in c:\\users\\felix\\appdata\\local\\packages\\pythonsoftwarefoundation.python.3.11_qbz5n2kfra8p0\\localcache\\local-packages\\python311\\site-packages (from requests) (2024.8.30)\n",
      "Requirement already satisfied: soupsieve>1.2 in c:\\users\\felix\\appdata\\local\\packages\\pythonsoftwarefoundation.python.3.11_qbz5n2kfra8p0\\localcache\\local-packages\\python311\\site-packages (from beautifulsoup4) (2.6)\n"
     ]
    },
    {
     "name": "stderr",
     "output_type": "stream",
     "text": [
      "\n",
      "[notice] A new release of pip is available: 24.0 -> 24.3.1\n",
      "[notice] To update, run: C:\\Users\\felix\\AppData\\Local\\Microsoft\\WindowsApps\\PythonSoftwareFoundation.Python.3.11_qbz5n2kfra8p0\\python.exe -m pip install --upgrade pip\n"
     ]
    }
   ],
   "source": [
    "!pip install requests beautifulsoup4 psycopg2-binary\n"
   ]
  },
  {
   "cell_type": "code",
   "execution_count": 2,
   "metadata": {},
   "outputs": [
    {
     "name": "stdout",
     "output_type": "stream",
     "text": [
      "Koneksi berhasil!\n"
     ]
    }
   ],
   "source": [
    "import psycopg2\n",
    "\n",
    "# Koneksi ke PostgreSQL\n",
    "connection = psycopg2.connect(\n",
    "    dbname=\"db_gudang_04\",       # Ganti dengan nama database Anda\n",
    "    user=\"postgres\",         # Ganti dengan username PostgreSQL Anda\n",
    "    password=\"felixexe131105\",     # Ganti dengan password PostgreSQL Anda\n",
    "    host=\"localhost\",         # Jika PostgreSQL berjalan di komputer lokal\n",
    "    port=\"5432\"                   # Port default PostgreSQL\n",
    ")\n",
    "\n",
    "cursor = connection.cursor()\n",
    "print(\"Koneksi berhasil!\")\n"
   ]
  },
  {
   "cell_type": "code",
   "execution_count": 4,
   "metadata": {},
   "outputs": [
    {
     "name": "stdout",
     "output_type": "stream",
     "text": [
      "Data berhasil dimasukkan: Samsung Galaxy S23 [8/256], Smartphone AI, AI Phone, Handphone AI, 50MP Nightography Camera & Snapdragon 8 Gen 2 (4nm), HP flagship Samsung, Android | Harga: 8999500\n",
      "Data berhasil dimasukkan: vivo Y100 (8/256) - Magical Color Changing, 80W FlashCharge, AMOLED - Ungu Anggrek | Harga: 2449000\n",
      "Data berhasil dimasukkan: Samsung Galaxy Z Fold 6 Fold6 12/512 12/256GB [ Free Upgrade Memory ] Silver Shadow Navy Pink Original | Harga: 24499000\n",
      "Data berhasil dimasukkan: Samsung Galaxy Z Flip 6 Flip6 12/512 12/256GB Blue Mint Silver Shadow Yellow Original (Harga Sebelum Diskon) | Harga: 15999000\n",
      "Data berhasil dimasukkan: Realme C75 8GB 256GB | 8GB 128GB | Dust & Water Resistance| Military Grade Shock Resistance | 6000mAh Massive Battery | Harga: 2425000\n",
      "Data berhasil dimasukkan: Xiaomi Poco X5 Pro 5G 8/256GB 6/128GB Garansi Resmi Poco X5 Pro 5G | Harga: 2425000\n",
      "Data berhasil dimasukkan: Infinix GT 20 Pro 5G 12/256GB - Up to 24GB Extended RAM - Dimensity 8200 Ultimate - 6.78\" Amoled FHD+ 144Hz - 108MP - NFC | Harga: 4249000\n",
      "Data berhasil dimasukkan: Infinix Note 40 Pro+ 5G 12/256GB - Up to 24GB Extended RAM - Dimensity 7020 - 6.78” FHD+ 3D Curved Amoled - 108MP OIS - 100W Charger - NFC | Harga: 3949000\n",
      "Data berhasil dimasukkan: Samsung Galaxy Z Flip 5 8GB/256GB Ex Resmi Indo | Harga: 9049000\n",
      "Data berhasil dimasukkan: Samsung Galaxy S24 FE 8/256GB Garansi Resmi | Harga: 9049000\n"
     ]
    }
   ],
   "source": [
    "import psycopg2\n",
    "import requests\n",
    "from bs4 import BeautifulSoup\n",
    "\n",
    "# Koneksi ke PostgreSQL\n",
    "connection = psycopg2.connect(\n",
    "    dbname=\"db_gudang_04\",       \n",
    "    user=\"postgres\",             \n",
    "    password=\"felixexe131105\",   \n",
    "    host=\"localhost\",            # Ganti dengan host jika berbeda\n",
    "    port=\"5432\"                  # Port default PostgreSQL\n",
    ")\n",
    "\n",
    "cursor = connection.cursor()\n",
    "\n",
    "# URL dari halaman e-commerce (contoh halaman produk)\n",
    "url = \"https://www.tokopedia.com/search?st=&q=HANDPHONE&srp_component_id=02.01.00.00&srp_page_id=&srp_page_title=&navsource=\"\n",
    "\n",
    "# Lakukan HTTP GET request\n",
    "response = requests.get(url, headers={\"User-Agent\": \"Mozilla/5.0\"})\n",
    "\n",
    "# Parse konten halaman menggunakan BeautifulSoup\n",
    "soup = BeautifulSoup(response.content, \"html.parser\")\n",
    "\n",
    "# Cari elemen HTML yang berisi nama dan harga produk\n",
    "produk = []\n",
    "for item in soup.find_all(\"div\", class_=\"_6+OpBPVGAgqnmycna+bWIw==\"):  # Sesuaikan selector berdasarkan situs\n",
    "    nama = item.find(\"span\", class_=\"_0T8-iGxMpV6NEsYEhwkqEg==\").get_text()  # Selector untuk nama produk\n",
    "    \n",
    "    # Cari harga produk\n",
    "    harga_item = item.find_next(\"div\", class_=\"_67d6E1xDKIzw+i2D2L0tjw== t4jWW3NandT5hvCFAiotYg==\")\n",
    "    if harga_item:\n",
    "        harga = harga_item.get_text().strip()  # Ambil harga dan hilangkan spasi\n",
    "        harga = int(harga.replace(\"Rp\", \"\").replace(\".\", \"\"))  # Konversi harga ke integer (hapus \"Rp\" dan titik)\n",
    "        produk.append((nama, harga))\n",
    "\n",
    "# Masukkan data ke tabel ProdukEcommerce\n",
    "for p in produk:\n",
    "    try:\n",
    "        # Query untuk memasukkan data ke dalam tabel\n",
    "        query = \"INSERT INTO ProdukEcommerce (nama_produk, harga) VALUES (%s, %s)\"\n",
    "        cursor.execute(query, (p[0], p[1]))  # Eksekusi query dengan data nama dan harga produk\n",
    "        print(f\"Data berhasil dimasukkan: {p[0]} | Harga: {p[1]}\")\n",
    "    except Exception as e:\n",
    "        print(f\"Error saat memasukkan data: {e}\")\n",
    "\n",
    "# Commit perubahan ke database\n",
    "connection.commit()\n",
    "\n",
    "# Tutup koneksi\n",
    "cursor.close()\n",
    "connection.close()\n"
   ]
  }
 ],
 "metadata": {
  "kernelspec": {
   "display_name": "Python 3",
   "language": "python",
   "name": "python3"
  },
  "language_info": {
   "codemirror_mode": {
    "name": "ipython",
    "version": 3
   },
   "file_extension": ".py",
   "mimetype": "text/x-python",
   "name": "python",
   "nbconvert_exporter": "python",
   "pygments_lexer": "ipython3",
   "version": "3.11.9"
  }
 },
 "nbformat": 4,
 "nbformat_minor": 2
}
