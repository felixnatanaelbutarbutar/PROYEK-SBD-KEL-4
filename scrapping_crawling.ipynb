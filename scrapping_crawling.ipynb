{
 "cells": [
  {
   "cell_type": "code",
   "execution_count": 1,
   "metadata": {},
   "outputs": [
    {
     "name": "stdout",
     "output_type": "stream",
     "text": [
      "Requirement already satisfied: requests in c:\\users\\felix\\appdata\\local\\packages\\pythonsoftwarefoundation.python.3.11_qbz5n2kfra8p0\\localcache\\local-packages\\python311\\site-packages (2.32.3)\n",
      "Requirement already satisfied: beautifulsoup4 in c:\\users\\felix\\appdata\\local\\packages\\pythonsoftwarefoundation.python.3.11_qbz5n2kfra8p0\\localcache\\local-packages\\python311\\site-packages (4.12.3)\n",
      "Requirement already satisfied: psycopg2-binary in c:\\users\\felix\\appdata\\local\\packages\\pythonsoftwarefoundation.python.3.11_qbz5n2kfra8p0\\localcache\\local-packages\\python311\\site-packages (2.9.10)\n",
      "Requirement already satisfied: charset-normalizer<4,>=2 in c:\\users\\felix\\appdata\\local\\packages\\pythonsoftwarefoundation.python.3.11_qbz5n2kfra8p0\\localcache\\local-packages\\python311\\site-packages (from requests) (3.4.0)\n",
      "Requirement already satisfied: idna<4,>=2.5 in c:\\users\\felix\\appdata\\local\\packages\\pythonsoftwarefoundation.python.3.11_qbz5n2kfra8p0\\localcache\\local-packages\\python311\\site-packages (from requests) (3.10)\n",
      "Requirement already satisfied: urllib3<3,>=1.21.1 in c:\\users\\felix\\appdata\\local\\packages\\pythonsoftwarefoundation.python.3.11_qbz5n2kfra8p0\\localcache\\local-packages\\python311\\site-packages (from requests) (1.26.20)\n",
      "Requirement already satisfied: certifi>=2017.4.17 in c:\\users\\felix\\appdata\\local\\packages\\pythonsoftwarefoundation.python.3.11_qbz5n2kfra8p0\\localcache\\local-packages\\python311\\site-packages (from requests) (2024.8.30)\n",
      "Requirement already satisfied: soupsieve>1.2 in c:\\users\\felix\\appdata\\local\\packages\\pythonsoftwarefoundation.python.3.11_qbz5n2kfra8p0\\localcache\\local-packages\\python311\\site-packages (from beautifulsoup4) (2.6)\n"
     ]
    },
    {
     "name": "stderr",
     "output_type": "stream",
     "text": [
      "\n",
      "[notice] A new release of pip is available: 24.0 -> 24.3.1\n",
      "[notice] To update, run: C:\\Users\\felix\\AppData\\Local\\Microsoft\\WindowsApps\\PythonSoftwareFoundation.Python.3.11_qbz5n2kfra8p0\\python.exe -m pip install --upgrade pip\n"
     ]
    }
   ],
   "source": [
    "!pip install requests beautifulsoup4 psycopg2-binary\n"
   ]
  },
  {
   "cell_type": "code",
   "execution_count": 5,
   "metadata": {},
   "outputs": [
    {
     "name": "stdout",
     "output_type": "stream",
     "text": [
      "Koneksi berhasil!\n"
     ]
    }
   ],
   "source": [
    "import psycopg2\n",
    "\n",
    "# Koneksi ke PostgreSQL\n",
    "connection = psycopg2.connect(\n",
    "    dbname=\"db_gudang_04\",       # Ganti dengan nama database Anda\n",
    "    user=\"postgres\",         # Ganti dengan username PostgreSQL Anda\n",
    "    password=\"felixexe131105\",     # Ganti dengan password PostgreSQL Anda\n",
    "    host=\"localhost\",         # Jika PostgreSQL berjalan di komputer lokal\n",
    "    port=\"5432\"                   # Port default PostgreSQL\n",
    ")\n",
    "\n",
    "cursor = connection.cursor()\n",
    "print(\"Koneksi berhasil!\")\n"
   ]
  },
  {
   "cell_type": "code",
   "execution_count": 2,
   "metadata": {},
   "outputs": [
    {
     "name": "stdout",
     "output_type": "stream",
     "text": [
      "Data berhasil dimasukkan: 2024 - Yamaha All New XSR 155 | Harga: 25900000\n",
      "Data berhasil dimasukkan: Yamaha Lexi LX Standart 155 Sepeda Motor Matic | Harga: 25900000\n",
      "Data berhasil dimasukkan: 2024 - Yamaha Nmax Neo Version | Harga: 125000\n",
      "Data berhasil dimasukkan: caferacer cover jok kulit jok sadel honda yamaha srung jok kulit jok | Harga: 125000\n",
      "Error saat memasukkan data: value too long for type character varying(100)\n",
      "\n",
      "Error saat memasukkan data: current transaction is aborted, commands ignored until end of transaction block\n",
      "\n",
      "Error saat memasukkan data: current transaction is aborted, commands ignored until end of transaction block\n",
      "\n",
      "Error saat memasukkan data: current transaction is aborted, commands ignored until end of transaction block\n",
      "\n",
      "Error saat memasukkan data: current transaction is aborted, commands ignored until end of transaction block\n",
      "\n",
      "Error saat memasukkan data: current transaction is aborted, commands ignored until end of transaction block\n",
      "\n"
     ]
    }
   ],
   "source": [
    "import psycopg2\n",
    "import requests\n",
    "from bs4 import BeautifulSoup\n",
    "\n",
    "# Koneksi ke PostgreSQL\n",
    "connection = psycopg2.connect(\n",
    "    dbname=\"db_gudang_04\",       \n",
    "    user=\"postgres\",             \n",
    "    password=\"felixexe131105\",   \n",
    "    host=\"localhost\",            # Ganti dengan host jika berbeda\n",
    "    port=\"5432\"                  # Port default PostgreSQL\n",
    ")\n",
    "\n",
    "cursor = connection.cursor()\n",
    "\n",
    "# URL dari halaman e-commerce (contoh halaman produk)\n",
    "url = \"https://www.tokopedia.com/search?st=&q=yamaha%20&srp_component_id=02.01.00.00&srp_page_id=&srp_page_title=&navsource=\"\n",
    "\n",
    "# Lakukan HTTP GET request\n",
    "response = requests.get(url, headers={\"User-Agent\": \"Mozilla/5.0\"})\n",
    "\n",
    "# Parse konten halaman menggunakan BeautifulSoup\n",
    "soup = BeautifulSoup(response.content, \"html.parser\")\n",
    "\n",
    "# Cari elemen HTML yang berisi nama dan harga produk\n",
    "produk = []\n",
    "for item in soup.find_all(\"div\", class_=\"_6+OpBPVGAgqnmycna+bWIw==\"):  # Sesuaikan selector berdasarkan situs\n",
    "    nama = item.find(\"span\", class_=\"_0T8-iGxMpV6NEsYEhwkqEg==\").get_text()  # Selector untuk nama produk\n",
    "    \n",
    "    # Cari harga produk\n",
    "    harga_item = item.find_next(\"div\", class_=\"_67d6E1xDKIzw+i2D2L0tjw== t4jWW3NandT5hvCFAiotYg==\")\n",
    "    if harga_item:\n",
    "        harga = harga_item.get_text().strip()  # Ambil harga dan hilangkan spasi\n",
    "        harga = int(harga.replace(\"Rp\", \"\").replace(\".\", \"\"))  # Konversi harga ke integer (hapus \"Rp\" dan titik)\n",
    "        produk.append((nama, harga))\n",
    "\n",
    "# Masukkan data ke tabel ProdukEcommerce\n",
    "for p in produk:\n",
    "    try:\n",
    "        # Query untuk memasukkan data ke dalam tabel\n",
    "        query = \"INSERT INTO ProdukEcommerce (nama_produk, harga) VALUES (%s, %s)\"\n",
    "        cursor.execute(query, (p[0], p[1]))  # Eksekusi query dengan data nama dan harga produk\n",
    "        print(f\"Data berhasil dimasukkan: {p[0]} | Harga: {p[1]}\")\n",
    "    except Exception as e:\n",
    "        print(f\"Error saat memasukkan data: {e}\")\n",
    "\n",
    "# Commit perubahan ke database\n",
    "connection.commit()\n",
    "\n",
    "# Tutup koneksi\n",
    "cursor.close()\n",
    "connection.close()\n"
   ]
  },
  {
   "cell_type": "code",
   "execution_count": 11,
   "metadata": {},
   "outputs": [
    {
     "name": "stdout",
     "output_type": "stream",
     "text": [
      "Requirement already satisfied: requests-html in c:\\users\\felix\\appdata\\local\\packages\\pythonsoftwarefoundation.python.3.11_qbz5n2kfra8p0\\localcache\\local-packages\\python311\\site-packages (0.10.0)\n",
      "Requirement already satisfied: requests in c:\\users\\felix\\appdata\\local\\packages\\pythonsoftwarefoundation.python.3.11_qbz5n2kfra8p0\\localcache\\local-packages\\python311\\site-packages (from requests-html) (2.32.3)\n",
      "Requirement already satisfied: pyquery in c:\\users\\felix\\appdata\\local\\packages\\pythonsoftwarefoundation.python.3.11_qbz5n2kfra8p0\\localcache\\local-packages\\python311\\site-packages (from requests-html) (2.0.1)\n",
      "Requirement already satisfied: fake-useragent in c:\\users\\felix\\appdata\\local\\packages\\pythonsoftwarefoundation.python.3.11_qbz5n2kfra8p0\\localcache\\local-packages\\python311\\site-packages (from requests-html) (2.0.1)\n",
      "Requirement already satisfied: parse in c:\\users\\felix\\appdata\\local\\packages\\pythonsoftwarefoundation.python.3.11_qbz5n2kfra8p0\\localcache\\local-packages\\python311\\site-packages (from requests-html) (1.20.2)\n",
      "Requirement already satisfied: bs4 in c:\\users\\felix\\appdata\\local\\packages\\pythonsoftwarefoundation.python.3.11_qbz5n2kfra8p0\\localcache\\local-packages\\python311\\site-packages (from requests-html) (0.0.2)\n",
      "Requirement already satisfied: w3lib in c:\\users\\felix\\appdata\\local\\packages\\pythonsoftwarefoundation.python.3.11_qbz5n2kfra8p0\\localcache\\local-packages\\python311\\site-packages (from requests-html) (2.2.1)\n",
      "Requirement already satisfied: pyppeteer>=0.0.14 in c:\\users\\felix\\appdata\\local\\packages\\pythonsoftwarefoundation.python.3.11_qbz5n2kfra8p0\\localcache\\local-packages\\python311\\site-packages (from requests-html) (2.0.0)\n",
      "Requirement already satisfied: appdirs<2.0.0,>=1.4.3 in c:\\users\\felix\\appdata\\local\\packages\\pythonsoftwarefoundation.python.3.11_qbz5n2kfra8p0\\localcache\\local-packages\\python311\\site-packages (from pyppeteer>=0.0.14->requests-html) (1.4.4)\n",
      "Requirement already satisfied: certifi>=2023 in c:\\users\\felix\\appdata\\local\\packages\\pythonsoftwarefoundation.python.3.11_qbz5n2kfra8p0\\localcache\\local-packages\\python311\\site-packages (from pyppeteer>=0.0.14->requests-html) (2024.8.30)\n",
      "Requirement already satisfied: importlib-metadata>=1.4 in c:\\users\\felix\\appdata\\local\\packages\\pythonsoftwarefoundation.python.3.11_qbz5n2kfra8p0\\localcache\\local-packages\\python311\\site-packages (from pyppeteer>=0.0.14->requests-html) (8.5.0)\n",
      "Requirement already satisfied: pyee<12.0.0,>=11.0.0 in c:\\users\\felix\\appdata\\local\\packages\\pythonsoftwarefoundation.python.3.11_qbz5n2kfra8p0\\localcache\\local-packages\\python311\\site-packages (from pyppeteer>=0.0.14->requests-html) (11.1.1)\n",
      "Requirement already satisfied: tqdm<5.0.0,>=4.42.1 in c:\\users\\felix\\appdata\\local\\packages\\pythonsoftwarefoundation.python.3.11_qbz5n2kfra8p0\\localcache\\local-packages\\python311\\site-packages (from pyppeteer>=0.0.14->requests-html) (4.67.1)\n",
      "Requirement already satisfied: urllib3<2.0.0,>=1.25.8 in c:\\users\\felix\\appdata\\local\\packages\\pythonsoftwarefoundation.python.3.11_qbz5n2kfra8p0\\localcache\\local-packages\\python311\\site-packages (from pyppeteer>=0.0.14->requests-html) (1.26.20)\n",
      "Requirement already satisfied: websockets<11.0,>=10.0 in c:\\users\\felix\\appdata\\local\\packages\\pythonsoftwarefoundation.python.3.11_qbz5n2kfra8p0\\localcache\\local-packages\\python311\\site-packages (from pyppeteer>=0.0.14->requests-html) (10.4)\n",
      "Requirement already satisfied: beautifulsoup4 in c:\\users\\felix\\appdata\\local\\packages\\pythonsoftwarefoundation.python.3.11_qbz5n2kfra8p0\\localcache\\local-packages\\python311\\site-packages (from bs4->requests-html) (4.12.3)\n",
      "Requirement already satisfied: importlib-resources>=6.0 in c:\\users\\felix\\appdata\\local\\packages\\pythonsoftwarefoundation.python.3.11_qbz5n2kfra8p0\\localcache\\local-packages\\python311\\site-packages (from fake-useragent->requests-html) (6.4.5)\n",
      "Requirement already satisfied: lxml>=2.1 in c:\\users\\felix\\appdata\\local\\packages\\pythonsoftwarefoundation.python.3.11_qbz5n2kfra8p0\\localcache\\local-packages\\python311\\site-packages (from pyquery->requests-html) (5.3.0)\n",
      "Requirement already satisfied: cssselect>=1.2.0 in c:\\users\\felix\\appdata\\local\\packages\\pythonsoftwarefoundation.python.3.11_qbz5n2kfra8p0\\localcache\\local-packages\\python311\\site-packages (from pyquery->requests-html) (1.2.0)\n",
      "Requirement already satisfied: charset-normalizer<4,>=2 in c:\\users\\felix\\appdata\\local\\packages\\pythonsoftwarefoundation.python.3.11_qbz5n2kfra8p0\\localcache\\local-packages\\python311\\site-packages (from requests->requests-html) (3.4.0)\n",
      "Requirement already satisfied: idna<4,>=2.5 in c:\\users\\felix\\appdata\\local\\packages\\pythonsoftwarefoundation.python.3.11_qbz5n2kfra8p0\\localcache\\local-packages\\python311\\site-packages (from requests->requests-html) (3.10)\n",
      "Requirement already satisfied: zipp>=3.20 in c:\\users\\felix\\appdata\\local\\packages\\pythonsoftwarefoundation.python.3.11_qbz5n2kfra8p0\\localcache\\local-packages\\python311\\site-packages (from importlib-metadata>=1.4->pyppeteer>=0.0.14->requests-html) (3.21.0)\n",
      "Requirement already satisfied: typing-extensions in c:\\users\\felix\\appdata\\local\\packages\\pythonsoftwarefoundation.python.3.11_qbz5n2kfra8p0\\localcache\\local-packages\\python311\\site-packages (from pyee<12.0.0,>=11.0.0->pyppeteer>=0.0.14->requests-html) (4.12.2)\n",
      "Requirement already satisfied: colorama in c:\\users\\felix\\appdata\\local\\packages\\pythonsoftwarefoundation.python.3.11_qbz5n2kfra8p0\\localcache\\local-packages\\python311\\site-packages (from tqdm<5.0.0,>=4.42.1->pyppeteer>=0.0.14->requests-html) (0.4.6)\n",
      "Requirement already satisfied: soupsieve>1.2 in c:\\users\\felix\\appdata\\local\\packages\\pythonsoftwarefoundation.python.3.11_qbz5n2kfra8p0\\localcache\\local-packages\\python311\\site-packages (from beautifulsoup4->bs4->requests-html) (2.6)\n"
     ]
    },
    {
     "name": "stderr",
     "output_type": "stream",
     "text": [
      "\n",
      "[notice] A new release of pip is available: 24.0 -> 24.3.1\n",
      "[notice] To update, run: C:\\Users\\felix\\AppData\\Local\\Microsoft\\WindowsApps\\PythonSoftwareFoundation.Python.3.11_qbz5n2kfra8p0\\python.exe -m pip install --upgrade pip\n"
     ]
    }
   ],
   "source": [
    "!pip install requests-html\n"
   ]
  },
  {
   "cell_type": "code",
   "execution_count": 10,
   "metadata": {},
   "outputs": [
    {
     "name": "stdout",
     "output_type": "stream",
     "text": [
      "Requirement already satisfied: lxml[html_clean] in c:\\users\\felix\\appdata\\local\\packages\\pythonsoftwarefoundation.python.3.11_qbz5n2kfra8p0\\localcache\\local-packages\\python311\\site-packages (5.3.0)\n",
      "Collecting lxml-html-clean (from lxml[html_clean])\n",
      "  Downloading lxml_html_clean-0.4.1-py3-none-any.whl.metadata (2.4 kB)\n",
      "Downloading lxml_html_clean-0.4.1-py3-none-any.whl (14 kB)\n",
      "Installing collected packages: lxml-html-clean\n",
      "Successfully installed lxml-html-clean-0.4.1\n",
      "Note: you may need to restart the kernel to use updated packages.\n"
     ]
    },
    {
     "name": "stderr",
     "output_type": "stream",
     "text": [
      "\n",
      "[notice] A new release of pip is available: 24.0 -> 24.3.1\n",
      "[notice] To update, run: C:\\Users\\felix\\AppData\\Local\\Microsoft\\WindowsApps\\PythonSoftwareFoundation.Python.3.11_qbz5n2kfra8p0\\python.exe -m pip install --upgrade pip\n"
     ]
    }
   ],
   "source": [
    "pip install lxml[html_clean]\n"
   ]
  },
  {
   "cell_type": "code",
   "execution_count": 21,
   "metadata": {},
   "outputs": [
    {
     "ename": "ModuleNotFoundError",
     "evalue": "No module named 'selenium'",
     "output_type": "error",
     "traceback": [
      "\u001b[1;31m---------------------------------------------------------------------------\u001b[0m",
      "\u001b[1;31mModuleNotFoundError\u001b[0m                       Traceback (most recent call last)",
      "Cell \u001b[1;32mIn[21], line 1\u001b[0m\n\u001b[1;32m----> 1\u001b[0m \u001b[38;5;28;01mfrom\u001b[39;00m \u001b[38;5;21;01mselenium\u001b[39;00m \u001b[38;5;28;01mimport\u001b[39;00m webdriver\n\u001b[0;32m      2\u001b[0m \u001b[38;5;28;01mfrom\u001b[39;00m \u001b[38;5;21;01mselenium\u001b[39;00m\u001b[38;5;21;01m.\u001b[39;00m\u001b[38;5;21;01mwebdriver\u001b[39;00m\u001b[38;5;21;01m.\u001b[39;00m\u001b[38;5;21;01mchrome\u001b[39;00m\u001b[38;5;21;01m.\u001b[39;00m\u001b[38;5;21;01mservice\u001b[39;00m \u001b[38;5;28;01mimport\u001b[39;00m Service\n\u001b[0;32m      3\u001b[0m \u001b[38;5;28;01mfrom\u001b[39;00m \u001b[38;5;21;01mselenium\u001b[39;00m\u001b[38;5;21;01m.\u001b[39;00m\u001b[38;5;21;01mwebdriver\u001b[39;00m\u001b[38;5;21;01m.\u001b[39;00m\u001b[38;5;21;01mcommon\u001b[39;00m\u001b[38;5;21;01m.\u001b[39;00m\u001b[38;5;21;01mby\u001b[39;00m \u001b[38;5;28;01mimport\u001b[39;00m By\n",
      "\u001b[1;31mModuleNotFoundError\u001b[0m: No module named 'selenium'"
     ]
    }
   ],
   "source": [
    "from selenium import webdriver\n",
    "from selenium.webdriver.chrome.service import Service\n",
    "from selenium.webdriver.common.by import By\n",
    "from bs4 import BeautifulSoup\n",
    "import psycopg2\n",
    "import time\n",
    "\n",
    "# Koneksi ke PostgreSQL\n",
    "connection = psycopg2.connect(\n",
    "    dbname=\"db_gudang_04\",       \n",
    "    user=\"postgres\",             \n",
    "    password=\"felixexe131105\",   \n",
    "    host=\"localhost\",            \n",
    "    port=\"5432\"                  \n",
    ")\n",
    "cursor = connection.cursor()\n",
    "\n",
    "# URL dari halaman e-commerce\n",
    "url = \"https://www.tokopedia.com/search?st=&q=yamaha%20&srp_component_id=02.01.00.00&srp_page_id=&srp_page_title=&navsource=\"\n",
    "\n",
    "# Setup Selenium WebDriver\n",
    "service = Service('/path/to/chromedriver')  # Sesuaikan path ke chromedriver\n",
    "driver = webdriver.Chrome(service=service)\n",
    "\n",
    "# Akses halaman\n",
    "driver.get(url)\n",
    "time.sleep(5)  # Tunggu halaman selesai dimuat\n",
    "\n",
    "# Parse halaman menggunakan BeautifulSoup\n",
    "soup = BeautifulSoup(driver.page_source, \"html.parser\")\n",
    "driver.quit()\n",
    "\n",
    "# Scraping data\n",
    "produk = []\n",
    "for item in soup.find_all(\"div\", class_=\"css-1sn1xa2\"):\n",
    "    # Nama produk\n",
    "    nama_tag = item.find(\"div\", class_=\"css-1b6t4dn\")\n",
    "    nama_produk = nama_tag.get_text().strip() if nama_tag else None\n",
    "\n",
    "    # URL produk\n",
    "    link_tag = item.find(\"a\", href=True)\n",
    "    url_produk = link_tag[\"href\"] if link_tag else None\n",
    "\n",
    "    # Gambar produk\n",
    "    img_tag = item.find(\"img\", class_=\"success fade\")\n",
    "    img_url = img_tag[\"src\"] if img_tag else None\n",
    "\n",
    "    # Simpan data jika semua elemen ditemukan\n",
    "    if nama_produk and url_produk and img_url:\n",
    "        produk.append((nama_produk, url_produk, img_url))\n",
    "\n",
    "# Masukkan data ke tabel CrawlingData\n",
    "for p in produk:\n",
    "    try:\n",
    "        query = \"INSERT INTO CrawlingData (nama_produk, url_produk, img_url) VALUES (%s, %s, %s)\"\n",
    "        cursor.execute(query, (p[0], p[1], p[2]))\n",
    "        print(f\"Data berhasil dimasukkan: {p[0]} | URL: {p[1]} | Gambar: {p[2]}\")\n",
    "    except Exception as e:\n",
    "        print(f\"Error saat memasukkan data: {e}\")\n",
    "\n",
    "# Commit dan tutup koneksi\n",
    "connection.commit()\n",
    "cursor.close()\n",
    "connection.close()\n",
    "\n",
    "print(\"Proses selesai.\")\n"
   ]
  }
 ],
 "metadata": {
  "kernelspec": {
   "display_name": "Python 3",
   "language": "python",
   "name": "python3"
  },
  "language_info": {
   "codemirror_mode": {
    "name": "ipython",
    "version": 3
   },
   "file_extension": ".py",
   "mimetype": "text/x-python",
   "name": "python",
   "nbconvert_exporter": "python",
   "pygments_lexer": "ipython3",
   "version": "3.11.9"
  }
 },
 "nbformat": 4,
 "nbformat_minor": 2
}
