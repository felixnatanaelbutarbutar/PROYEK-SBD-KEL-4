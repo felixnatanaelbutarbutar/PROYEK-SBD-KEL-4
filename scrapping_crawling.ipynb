{
 "cells": [
  {
   "cell_type": "code",
   "execution_count": null,
   "metadata": {},
   "outputs": [],
   "source": [
    "pip uninstall psycopg2"
   ]
  },
  {
   "cell_type": "code",
   "execution_count": null,
   "metadata": {},
   "outputs": [
    {
     "name": "stdout",
     "output_type": "stream",
     "text": [
      "Requirement already satisfied: psycopg2-binary in c:\\users\\user\\appdata\\local\\programs\\python\\python313\\lib\\site-packages (2.9.10)\n",
      "Note: you may need to restart the kernel to use updated packages.\n"
     ]
    }
   ],
   "source": [
    "!pip install requests beautifulsoup4 psycopg2-binary"
   ]
  },
  {
   "cell_type": "code",
   "execution_count": 3,
   "metadata": {},
   "outputs": [
    {
     "ename": "ImportError",
     "evalue": "DLL load failed while importing _psycopg: The specified module could not be found.",
     "output_type": "error",
     "traceback": [
      "\u001b[1;31m---------------------------------------------------------------------------\u001b[0m",
      "\u001b[1;31mImportError\u001b[0m                               Traceback (most recent call last)",
      "Cell \u001b[1;32mIn[3], line 1\u001b[0m\n\u001b[1;32m----> 1\u001b[0m \u001b[38;5;28;01mimport\u001b[39;00m \u001b[38;5;21;01mpsycopg2\u001b[39;00m\n\u001b[0;32m      3\u001b[0m \u001b[38;5;66;03m# Koneksi ke PostgreSQL\u001b[39;00m\n\u001b[0;32m      4\u001b[0m connection \u001b[38;5;241m=\u001b[39m psycopg2\u001b[38;5;241m.\u001b[39mconnect(\n\u001b[0;32m      5\u001b[0m     dbname\u001b[38;5;241m=\u001b[39m\u001b[38;5;124m\"\u001b[39m\u001b[38;5;124mdb_gudang_04\u001b[39m\u001b[38;5;124m\"\u001b[39m,       \u001b[38;5;66;03m# Ganti dengan nama database Anda\u001b[39;00m\n\u001b[0;32m      6\u001b[0m     user\u001b[38;5;241m=\u001b[39m\u001b[38;5;124m\"\u001b[39m\u001b[38;5;124mpostgres\u001b[39m\u001b[38;5;124m\"\u001b[39m,         \u001b[38;5;66;03m# Ganti dengan username PostgreSQL Anda\u001b[39;00m\n\u001b[1;32m   (...)\u001b[0m\n\u001b[0;32m      9\u001b[0m     port\u001b[38;5;241m=\u001b[39m\u001b[38;5;124m\"\u001b[39m\u001b[38;5;124m5432\u001b[39m\u001b[38;5;124m\"\u001b[39m                   \u001b[38;5;66;03m# Port default PostgreSQL\u001b[39;00m\n\u001b[0;32m     10\u001b[0m )\n",
      "File \u001b[1;32mc:\\Users\\USER\\AppData\\Local\\Programs\\Python\\Python313\\Lib\\site-packages\\psycopg2\\__init__.py:51\u001b[0m\n\u001b[0;32m      1\u001b[0m \u001b[38;5;124;03m\"\"\"A Python driver for PostgreSQL\u001b[39;00m\n\u001b[0;32m      2\u001b[0m \n\u001b[0;32m      3\u001b[0m \u001b[38;5;124;03mpsycopg is a PostgreSQL_ database adapter for the Python_ programming\u001b[39;00m\n\u001b[1;32m   (...)\u001b[0m\n\u001b[0;32m     17\u001b[0m \u001b[38;5;124;03m    TimeFromTicks, Timestamp, TimestampFromTicks\u001b[39;00m\n\u001b[0;32m     18\u001b[0m \u001b[38;5;124;03m\"\"\"\u001b[39;00m\n\u001b[0;32m     19\u001b[0m \u001b[38;5;66;03m# psycopg/__init__.py - initialization of the psycopg module\u001b[39;00m\n\u001b[0;32m     20\u001b[0m \u001b[38;5;66;03m#\u001b[39;00m\n\u001b[0;32m     21\u001b[0m \u001b[38;5;66;03m# Copyright (C) 2003-2019 Federico Di Gregorio  <fog@debian.org>\u001b[39;00m\n\u001b[1;32m   (...)\u001b[0m\n\u001b[0;32m     48\u001b[0m \n\u001b[0;32m     49\u001b[0m \u001b[38;5;66;03m# Import the DBAPI-2.0 stuff into top-level module.\u001b[39;00m\n\u001b[1;32m---> 51\u001b[0m \u001b[38;5;28;01mfrom\u001b[39;00m \u001b[38;5;21;01mpsycopg2\u001b[39;00m\u001b[38;5;21;01m.\u001b[39;00m\u001b[38;5;21;01m_psycopg\u001b[39;00m \u001b[38;5;28;01mimport\u001b[39;00m (                     \u001b[38;5;66;03m# noqa\u001b[39;00m\n\u001b[0;32m     52\u001b[0m     BINARY, NUMBER, STRING, DATETIME, ROWID,\n\u001b[0;32m     53\u001b[0m \n\u001b[0;32m     54\u001b[0m     Binary, Date, Time, Timestamp,\n\u001b[0;32m     55\u001b[0m     DateFromTicks, TimeFromTicks, TimestampFromTicks,\n\u001b[0;32m     56\u001b[0m \n\u001b[0;32m     57\u001b[0m     Error, \u001b[38;5;167;01mWarning\u001b[39;00m, DataError, DatabaseError, ProgrammingError, IntegrityError,\n\u001b[0;32m     58\u001b[0m     InterfaceError, InternalError, NotSupportedError, OperationalError,\n\u001b[0;32m     59\u001b[0m \n\u001b[0;32m     60\u001b[0m     _connect, apilevel, threadsafety, paramstyle,\n\u001b[0;32m     61\u001b[0m     __version__, __libpq_version__,\n\u001b[0;32m     62\u001b[0m )\n\u001b[0;32m     65\u001b[0m \u001b[38;5;66;03m# Register default adapters.\u001b[39;00m\n\u001b[0;32m     67\u001b[0m \u001b[38;5;28;01mfrom\u001b[39;00m \u001b[38;5;21;01mpsycopg2\u001b[39;00m \u001b[38;5;28;01mimport\u001b[39;00m extensions \u001b[38;5;28;01mas\u001b[39;00m _ext\n",
      "\u001b[1;31mImportError\u001b[0m: DLL load failed while importing _psycopg: The specified module could not be found."
     ]
    }
   ],
   "source": [
    "import psycopg2\n",
    "\n",
    "# Koneksi ke PostgreSQL\n",
    "connection = psycopg2.connect(\n",
    "    dbname=\"db_gudang_04\",       # Ganti dengan nama database Anda\n",
    "    user=\"postgres\",         # Ganti dengan username PostgreSQL Anda\n",
    "    password=\"Menu23rahel\",     # Ganti dengan password PostgreSQL Anda\n",
    "    host=\"localhost\",         # Jika PostgreSQL berjalan di komputer lokal\n",
    "    port=\"5432\"                   # Port default PostgreSQL\n",
    ")\n",
    "\n",
    "cursor = connection.cursor()\n",
    "print(\"Koneksi berhasil!\")\n"
   ]
  },
  {
   "cell_type": "code",
   "execution_count": 4,
   "metadata": {},
   "outputs": [
    {
     "name": "stdout",
     "output_type": "stream",
     "text": [
      "Data berhasil dimasukkan: Samsung Galaxy S23 [8/256], Smartphone AI, AI Phone, Handphone AI, 50MP Nightography Camera & Snapdragon 8 Gen 2 (4nm), HP flagship Samsung, Android | Harga: 8999500\n",
      "Data berhasil dimasukkan: vivo Y100 (8/256) - Magical Color Changing, 80W FlashCharge, AMOLED - Ungu Anggrek | Harga: 2449000\n",
      "Data berhasil dimasukkan: Samsung Galaxy Z Fold 6 Fold6 12/512 12/256GB [ Free Upgrade Memory ] Silver Shadow Navy Pink Original | Harga: 24499000\n",
      "Data berhasil dimasukkan: Samsung Galaxy Z Flip 6 Flip6 12/512 12/256GB Blue Mint Silver Shadow Yellow Original (Harga Sebelum Diskon) | Harga: 15999000\n",
      "Data berhasil dimasukkan: Realme C75 8GB 256GB | 8GB 128GB | Dust & Water Resistance| Military Grade Shock Resistance | 6000mAh Massive Battery | Harga: 2425000\n",
      "Data berhasil dimasukkan: Xiaomi Poco X5 Pro 5G 8/256GB 6/128GB Garansi Resmi Poco X5 Pro 5G | Harga: 2425000\n",
      "Data berhasil dimasukkan: Infinix GT 20 Pro 5G 12/256GB - Up to 24GB Extended RAM - Dimensity 8200 Ultimate - 6.78\" Amoled FHD+ 144Hz - 108MP - NFC | Harga: 4249000\n",
      "Data berhasil dimasukkan: Infinix Note 40 Pro+ 5G 12/256GB - Up to 24GB Extended RAM - Dimensity 7020 - 6.78” FHD+ 3D Curved Amoled - 108MP OIS - 100W Charger - NFC | Harga: 3949000\n",
      "Data berhasil dimasukkan: Samsung Galaxy Z Flip 5 8GB/256GB Ex Resmi Indo | Harga: 9049000\n",
      "Data berhasil dimasukkan: Samsung Galaxy S24 FE 8/256GB Garansi Resmi | Harga: 9049000\n"
     ]
    }
   ],
   "source": [
    "import psycopg2\n",
    "import requests\n",
    "from bs4 import BeautifulSoup\n",
    "\n",
    "# Koneksi ke PostgreSQL\n",
    "connection = psycopg2.connect(\n",
    "    dbname=\"db_gudang_04\",       \n",
    "    user=\"postgres\",             \n",
    "    password=\"felixexe131105\",   \n",
    "    host=\"localhost\",            # Ganti dengan host jika berbeda\n",
    "    port=\"5432\"                  # Port default PostgreSQL\n",
    ")\n",
    "\n",
    "cursor = connection.cursor()\n",
    "\n",
    "# URL dari halaman e-commerce (contoh halaman produk)\n",
    "url = \"https://www.tokopedia.com/search?st=&q=HANDPHONE&srp_component_id=02.01.00.00&srp_page_id=&srp_page_title=&navsource=\"\n",
    "\n",
    "# Lakukan HTTP GET request\n",
    "response = requests.get(url, headers={\"User-Agent\": \"Mozilla/5.0\"})\n",
    "\n",
    "# Parse konten halaman menggunakan BeautifulSoup\n",
    "soup = BeautifulSoup(response.content, \"html.parser\")\n",
    "\n",
    "# Cari elemen HTML yang berisi nama dan harga produk\n",
    "produk = []\n",
    "for item in soup.find_all(\"div\", class_=\"_6+OpBPVGAgqnmycna+bWIw==\"):  # Sesuaikan selector berdasarkan situs\n",
    "    nama = item.find(\"span\", class_=\"_0T8-iGxMpV6NEsYEhwkqEg==\").get_text()  # Selector untuk nama produk\n",
    "    \n",
    "    # Cari harga produk\n",
    "    harga_item = item.find_next(\"div\", class_=\"_67d6E1xDKIzw+i2D2L0tjw== t4jWW3NandT5hvCFAiotYg==\")\n",
    "    if harga_item:\n",
    "        harga = harga_item.get_text().strip()  # Ambil harga dan hilangkan spasi\n",
    "        harga = int(harga.replace(\"Rp\", \"\").replace(\".\", \"\"))  # Konversi harga ke integer (hapus \"Rp\" dan titik)\n",
    "        produk.append((nama, harga))\n",
    "\n",
    "# Masukkan data ke tabel ProdukEcommerce\n",
    "for p in produk:\n",
    "    try:\n",
    "        # Query untuk memasukkan data ke dalam tabel\n",
    "        query = \"INSERT INTO ProdukEcommerce (nama_produk, harga) VALUES (%s, %s)\"\n",
    "        cursor.execute(query, (p[0], p[1]))  # Eksekusi query dengan data nama dan harga produk\n",
    "        print(f\"Data berhasil dimasukkan: {p[0]} | Harga: {p[1]}\")\n",
    "    except Exception as e:\n",
    "        print(f\"Error saat memasukkan data: {e}\")\n",
    "\n",
    "# Commit perubahan ke database\n",
    "connection.commit()\n",
    "\n",
    "# Tutup koneksi\n",
    "cursor.close()\n",
    "connection.close()\n"
   ]
  }
 ],
 "metadata": {
  "kernelspec": {
   "display_name": "Python 3",
   "language": "python",
   "name": "python3"
  },
  "language_info": {
   "codemirror_mode": {
    "name": "ipython",
    "version": 3
   },
   "file_extension": ".py",
   "mimetype": "text/x-python",
   "name": "python",
   "nbconvert_exporter": "python",
   "pygments_lexer": "ipython3",
   "version": "3.13.0"
  }
 },
 "nbformat": 4,
 "nbformat_minor": 2
}
